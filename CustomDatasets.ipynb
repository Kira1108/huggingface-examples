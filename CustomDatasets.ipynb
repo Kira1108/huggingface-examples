{
  "nbformat": 4,
  "nbformat_minor": 0,
  "metadata": {
    "colab": {
      "provenance": [],
      "authorship_tag": "ABX9TyMoQ1X/dF6LkRBcnDFfmHe9",
      "include_colab_link": true
    },
    "kernelspec": {
      "name": "python3",
      "display_name": "Python 3"
    },
    "language_info": {
      "name": "python"
    }
  },
  "cells": [
    {
      "cell_type": "markdown",
      "metadata": {
        "id": "view-in-github",
        "colab_type": "text"
      },
      "source": [
        "<a href=\"https://colab.research.google.com/github/Kira1108/huggingface-examples/blob/main/CustomDatasets.ipynb\" target=\"_parent\"><img src=\"https://colab.research.google.com/assets/colab-badge.svg\" alt=\"Open In Colab\"/></a>"
      ]
    },
    {
      "cell_type": "code",
      "execution_count": null,
      "metadata": {
        "id": "eKPLPmeU52hv"
      },
      "outputs": [],
      "source": [
        "from IPython.display import clear_output\n",
        "\n",
        "!pip install transformers datasets\n",
        "\n",
        "clear_output()"
      ]
    },
    {
      "cell_type": "code",
      "source": [
        "!wget -nc https://lazyprogrammer.me/course_files/AirlineTweets.csv"
      ],
      "metadata": {
        "colab": {
          "base_uri": "https://localhost:8080/"
        },
        "id": "FJI6E9fA6IwF",
        "outputId": "524d675a-77fe-4c7d-eb39-67c9cdfde4b9"
      },
      "execution_count": null,
      "outputs": [
        {
          "output_type": "stream",
          "name": "stdout",
          "text": [
            "--2023-01-09 14:23:25--  https://lazyprogrammer.me/course_files/AirlineTweets.csv\n",
            "Resolving lazyprogrammer.me (lazyprogrammer.me)... 104.21.23.210, 172.67.213.166, 2606:4700:3030::ac43:d5a6, ...\n",
            "Connecting to lazyprogrammer.me (lazyprogrammer.me)|104.21.23.210|:443... connected.\n",
            "HTTP request sent, awaiting response... 200 OK\n",
            "Length: 3421431 (3.3M) [text/csv]\n",
            "Saving to: ‘AirlineTweets.csv’\n",
            "\n",
            "AirlineTweets.csv   100%[===================>]   3.26M  5.74MB/s    in 0.6s    \n",
            "\n",
            "2023-01-09 14:23:26 (5.74 MB/s) - ‘AirlineTweets.csv’ saved [3421431/3421431]\n",
            "\n"
          ]
        }
      ]
    },
    {
      "cell_type": "code",
      "source": [
        "import pandas as pd\n",
        "import numpy as np\n",
        "import seaborn as sns\n",
        "import matplotlib.pyplot as plt\n",
        "import json\n",
        "import torch\n",
        "from sklearn.metrics import f1_score, accuracy_score, confusion_matrix\n",
        "from sklearn.model_selection import train_test_split"
      ],
      "metadata": {
        "id": "5MRfg9Hj6hEd"
      },
      "execution_count": null,
      "outputs": []
    },
    {
      "cell_type": "markdown",
      "source": [],
      "metadata": {
        "id": "zZsPcy8Jj35j"
      }
    },
    {
      "cell_type": "code",
      "source": [
        "# Things we need to do:\n",
        "# -----------------------------------------------------------------------------\n",
        "# 1. find 2 columns, 1: text column 2: label column\n",
        "# 2. encode label column(keep encode map in memory)\n",
        "# 3. rename columns ['sentence', 'label']\n",
        "# 4. drop any other columns\n",
        "# 5. dump encoding map to json\n",
        "# 6. dump text column name, label column name, 'sentence','label' to json\n",
        "# 7. write a back transform function(map from interger category to original label)"
      ],
      "metadata": {
        "id": "teiFjWmLj5pe"
      },
      "execution_count": null,
      "outputs": []
    },
    {
      "cell_type": "code",
      "source": [
        "class CategoricalEncoder:\n",
        "\n",
        "    def __init__(self, target_map, col, target_name, text_col='text'):\n",
        "        self.target_map = target_map\n",
        "        self.col = col\n",
        "        self.target_name = target_name\n",
        "        self.text_col = text_col\n",
        "        self.reverse_map = {v:k for k,v in self.target_map.items()}\n",
        "\n",
        "\n",
        "    @classmethod\n",
        "    def from_df(cls, df, col, target_name = \"label\", text_col = 'text'):\n",
        "        target_map = {c:i for i,c in enumerate(df[col].unique())}\n",
        "        return cls(target_map, col, target_name, text_col)\n",
        "\n",
        "    @classmethod\n",
        "    def from_json(cls, path = \"categorical_encoder.json\"):\n",
        "        return cls(**json.load(open(path,'r')))\n",
        "\n",
        "    def encode(self, df):\n",
        "        # step 1 : replace targets with target map\n",
        "        df[self.target_name] = df[self.col].replace(self.target_map)\n",
        "\n",
        "        # step 2: remove unused columns\n",
        "        df.drop(self.col, axis = 1, inplace = True)\n",
        "\n",
        "        # step 3: rename column to fixed names\n",
        "        df.rename(columns = {self.text_col:\"sentence\"},inplace = True)\n",
        "        return df[['sentence','label']].copy()\n",
        "\n",
        "    def decode(self, arr):\n",
        "        return [self.reverse_map.get(c, None) for c in arr]\n",
        "\n",
        "\n",
        "    def dict(self):\n",
        "        return {\n",
        "            \"col\":self.col,\n",
        "            \"target_name\":self.target_name,\n",
        "            \"target_map\":self.target_map,\n",
        "            \"text_col\":self.text_col\n",
        "        }\n",
        "\n",
        "    def json(self):\n",
        "        return json.dumps(self.dict())\n",
        "\n",
        "    def dump(self, path = 'categorical_encoder.json'):\n",
        "        with open(path, \"w\") as f:\n",
        "            f.write(self.json())\n",
        "        print(\"Dump encoder into\", path)"
      ],
      "metadata": {
        "id": "5hXH_0RO7gv-"
      },
      "execution_count": null,
      "outputs": []
    },
    {
      "cell_type": "code",
      "source": [
        "# read dataset, select column to preprocess\n",
        "df = pd.read_csv(\"AirlineTweets.csv\")\n",
        "df = df[['airline_sentiment','text']].copy()\n",
        "\n",
        "# create encoder\n",
        "encoder = CategoricalEncoder.from_df(\n",
        "    df, \n",
        "    col = 'airline_sentiment',\n",
        "    target_name = 'label',\n",
        "    text_col = 'text')\n",
        "\n",
        "# encode dataframe\n",
        "encoded_df = encoder.encode(df)\n",
        "\n",
        "# dump encoder to json\n",
        "encoder.dump()"
      ],
      "metadata": {
        "colab": {
          "base_uri": "https://localhost:8080/"
        },
        "id": "RbaaCVeu8ZZa",
        "outputId": "575ffadf-3163-44c8-a82f-e6107712d159"
      },
      "execution_count": null,
      "outputs": [
        {
          "output_type": "stream",
          "name": "stdout",
          "text": [
            "Dump encoder into categorical_encoder.json\n"
          ]
        }
      ]
    },
    {
      "cell_type": "code",
      "source": [
        "!cat categorical_encoder.json"
      ],
      "metadata": {
        "colab": {
          "base_uri": "https://localhost:8080/"
        },
        "id": "O6KlDRlx_rdS",
        "outputId": "cb53c0ae-bf47-411e-9fc8-e0076dd42146"
      },
      "execution_count": null,
      "outputs": [
        {
          "output_type": "stream",
          "name": "stdout",
          "text": [
            "{\"col\": \"airline_sentiment\", \"target_name\": \"label\", \"target_map\": {\"neutral\": 0, \"positive\": 1, \"negative\": 2}, \"text_col\": \"text\"}"
          ]
        }
      ]
    },
    {
      "cell_type": "code",
      "source": [
        "newencoder = CategoricalEncoder.from_json(\"categorical_encoder.json\")"
      ],
      "metadata": {
        "id": "RHo4ZyWA_3kW"
      },
      "execution_count": null,
      "outputs": []
    },
    {
      "cell_type": "code",
      "source": [
        "encoder.decode([0,2,2,1,2,5])"
      ],
      "metadata": {
        "colab": {
          "base_uri": "https://localhost:8080/"
        },
        "id": "O3II1gAvJPSp",
        "outputId": "0ace934e-6f9a-4397-9ee0-65dfa2aded5e"
      },
      "execution_count": null,
      "outputs": [
        {
          "output_type": "execute_result",
          "data": {
            "text/plain": [
              "['neutral', 'negative', 'negative', 'positive', 'negative', None]"
            ]
          },
          "metadata": {},
          "execution_count": 80
        }
      ]
    },
    {
      "cell_type": "code",
      "source": [],
      "metadata": {
        "id": "mN1nUB3XJ7Lf"
      },
      "execution_count": null,
      "outputs": []
    }
  ]
}