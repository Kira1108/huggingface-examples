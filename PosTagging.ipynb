{
  "nbformat": 4,
  "nbformat_minor": 0,
  "metadata": {
    "colab": {
      "provenance": [],
      "machine_shape": "hm",
      "authorship_tag": "ABX9TyO6Ex+BN6/3KZnmIzK/NMuI",
      "include_colab_link": true
    },
    "kernelspec": {
      "name": "python3",
      "display_name": "Python 3"
    },
    "language_info": {
      "name": "python"
    },
    "widgets": {
      "application/vnd.jupyter.widget-state+json": {
        "7f234e5e66384841b36c174d6e29470f": {
          "model_module": "@jupyter-widgets/controls",
          "model_name": "HBoxModel",
          "model_module_version": "1.5.0",
          "state": {
            "_dom_classes": [],
            "_model_module": "@jupyter-widgets/controls",
            "_model_module_version": "1.5.0",
            "_model_name": "HBoxModel",
            "_view_count": null,
            "_view_module": "@jupyter-widgets/controls",
            "_view_module_version": "1.5.0",
            "_view_name": "HBoxView",
            "box_style": "",
            "children": [
              "IPY_MODEL_367e8f7569d64d11ac9235803b8295c0",
              "IPY_MODEL_27f496a8cb6a44339bfd32a020b07210",
              "IPY_MODEL_73bb17b55ff94990b1a6f86b05abdff1"
            ],
            "layout": "IPY_MODEL_0cee6be39fd3493ab2f2887d8d5b1450"
          }
        },
        "367e8f7569d64d11ac9235803b8295c0": {
          "model_module": "@jupyter-widgets/controls",
          "model_name": "HTMLModel",
          "model_module_version": "1.5.0",
          "state": {
            "_dom_classes": [],
            "_model_module": "@jupyter-widgets/controls",
            "_model_module_version": "1.5.0",
            "_model_name": "HTMLModel",
            "_view_count": null,
            "_view_module": "@jupyter-widgets/controls",
            "_view_module_version": "1.5.0",
            "_view_name": "HTMLView",
            "description": "",
            "description_tooltip": null,
            "layout": "IPY_MODEL_1773c4cd635e4b4dbc2cc862e18ad4eb",
            "placeholder": "​",
            "style": "IPY_MODEL_1075eff6814f474dbddd90e3a7f9f84f",
            "value": "100%"
          }
        },
        "27f496a8cb6a44339bfd32a020b07210": {
          "model_module": "@jupyter-widgets/controls",
          "model_name": "FloatProgressModel",
          "model_module_version": "1.5.0",
          "state": {
            "_dom_classes": [],
            "_model_module": "@jupyter-widgets/controls",
            "_model_module_version": "1.5.0",
            "_model_name": "FloatProgressModel",
            "_view_count": null,
            "_view_module": "@jupyter-widgets/controls",
            "_view_module_version": "1.5.0",
            "_view_name": "ProgressView",
            "bar_style": "success",
            "description": "",
            "description_tooltip": null,
            "layout": "IPY_MODEL_80dd5b2bed9b4a2da9e054bf3e51468a",
            "max": 1,
            "min": 0,
            "orientation": "horizontal",
            "style": "IPY_MODEL_bc6037663e55489d8c086a3197525796",
            "value": 1
          }
        },
        "73bb17b55ff94990b1a6f86b05abdff1": {
          "model_module": "@jupyter-widgets/controls",
          "model_name": "HTMLModel",
          "model_module_version": "1.5.0",
          "state": {
            "_dom_classes": [],
            "_model_module": "@jupyter-widgets/controls",
            "_model_module_version": "1.5.0",
            "_model_name": "HTMLModel",
            "_view_count": null,
            "_view_module": "@jupyter-widgets/controls",
            "_view_module_version": "1.5.0",
            "_view_name": "HTMLView",
            "description": "",
            "description_tooltip": null,
            "layout": "IPY_MODEL_68599cf4dd284715a16fbf3a257de33c",
            "placeholder": "​",
            "style": "IPY_MODEL_30ad1971b5fa4af588557b340aa0dd16",
            "value": " 1/1 [00:00&lt;00:00, 57.97it/s]"
          }
        },
        "0cee6be39fd3493ab2f2887d8d5b1450": {
          "model_module": "@jupyter-widgets/base",
          "model_name": "LayoutModel",
          "model_module_version": "1.2.0",
          "state": {
            "_model_module": "@jupyter-widgets/base",
            "_model_module_version": "1.2.0",
            "_model_name": "LayoutModel",
            "_view_count": null,
            "_view_module": "@jupyter-widgets/base",
            "_view_module_version": "1.2.0",
            "_view_name": "LayoutView",
            "align_content": null,
            "align_items": null,
            "align_self": null,
            "border": null,
            "bottom": null,
            "display": null,
            "flex": null,
            "flex_flow": null,
            "grid_area": null,
            "grid_auto_columns": null,
            "grid_auto_flow": null,
            "grid_auto_rows": null,
            "grid_column": null,
            "grid_gap": null,
            "grid_row": null,
            "grid_template_areas": null,
            "grid_template_columns": null,
            "grid_template_rows": null,
            "height": null,
            "justify_content": null,
            "justify_items": null,
            "left": null,
            "margin": null,
            "max_height": null,
            "max_width": null,
            "min_height": null,
            "min_width": null,
            "object_fit": null,
            "object_position": null,
            "order": null,
            "overflow": null,
            "overflow_x": null,
            "overflow_y": null,
            "padding": null,
            "right": null,
            "top": null,
            "visibility": null,
            "width": null
          }
        },
        "1773c4cd635e4b4dbc2cc862e18ad4eb": {
          "model_module": "@jupyter-widgets/base",
          "model_name": "LayoutModel",
          "model_module_version": "1.2.0",
          "state": {
            "_model_module": "@jupyter-widgets/base",
            "_model_module_version": "1.2.0",
            "_model_name": "LayoutModel",
            "_view_count": null,
            "_view_module": "@jupyter-widgets/base",
            "_view_module_version": "1.2.0",
            "_view_name": "LayoutView",
            "align_content": null,
            "align_items": null,
            "align_self": null,
            "border": null,
            "bottom": null,
            "display": null,
            "flex": null,
            "flex_flow": null,
            "grid_area": null,
            "grid_auto_columns": null,
            "grid_auto_flow": null,
            "grid_auto_rows": null,
            "grid_column": null,
            "grid_gap": null,
            "grid_row": null,
            "grid_template_areas": null,
            "grid_template_columns": null,
            "grid_template_rows": null,
            "height": null,
            "justify_content": null,
            "justify_items": null,
            "left": null,
            "margin": null,
            "max_height": null,
            "max_width": null,
            "min_height": null,
            "min_width": null,
            "object_fit": null,
            "object_position": null,
            "order": null,
            "overflow": null,
            "overflow_x": null,
            "overflow_y": null,
            "padding": null,
            "right": null,
            "top": null,
            "visibility": null,
            "width": null
          }
        },
        "1075eff6814f474dbddd90e3a7f9f84f": {
          "model_module": "@jupyter-widgets/controls",
          "model_name": "DescriptionStyleModel",
          "model_module_version": "1.5.0",
          "state": {
            "_model_module": "@jupyter-widgets/controls",
            "_model_module_version": "1.5.0",
            "_model_name": "DescriptionStyleModel",
            "_view_count": null,
            "_view_module": "@jupyter-widgets/base",
            "_view_module_version": "1.2.0",
            "_view_name": "StyleView",
            "description_width": ""
          }
        },
        "80dd5b2bed9b4a2da9e054bf3e51468a": {
          "model_module": "@jupyter-widgets/base",
          "model_name": "LayoutModel",
          "model_module_version": "1.2.0",
          "state": {
            "_model_module": "@jupyter-widgets/base",
            "_model_module_version": "1.2.0",
            "_model_name": "LayoutModel",
            "_view_count": null,
            "_view_module": "@jupyter-widgets/base",
            "_view_module_version": "1.2.0",
            "_view_name": "LayoutView",
            "align_content": null,
            "align_items": null,
            "align_self": null,
            "border": null,
            "bottom": null,
            "display": null,
            "flex": null,
            "flex_flow": null,
            "grid_area": null,
            "grid_auto_columns": null,
            "grid_auto_flow": null,
            "grid_auto_rows": null,
            "grid_column": null,
            "grid_gap": null,
            "grid_row": null,
            "grid_template_areas": null,
            "grid_template_columns": null,
            "grid_template_rows": null,
            "height": null,
            "justify_content": null,
            "justify_items": null,
            "left": null,
            "margin": null,
            "max_height": null,
            "max_width": null,
            "min_height": null,
            "min_width": null,
            "object_fit": null,
            "object_position": null,
            "order": null,
            "overflow": null,
            "overflow_x": null,
            "overflow_y": null,
            "padding": null,
            "right": null,
            "top": null,
            "visibility": null,
            "width": null
          }
        },
        "bc6037663e55489d8c086a3197525796": {
          "model_module": "@jupyter-widgets/controls",
          "model_name": "ProgressStyleModel",
          "model_module_version": "1.5.0",
          "state": {
            "_model_module": "@jupyter-widgets/controls",
            "_model_module_version": "1.5.0",
            "_model_name": "ProgressStyleModel",
            "_view_count": null,
            "_view_module": "@jupyter-widgets/base",
            "_view_module_version": "1.2.0",
            "_view_name": "StyleView",
            "bar_color": null,
            "description_width": ""
          }
        },
        "68599cf4dd284715a16fbf3a257de33c": {
          "model_module": "@jupyter-widgets/base",
          "model_name": "LayoutModel",
          "model_module_version": "1.2.0",
          "state": {
            "_model_module": "@jupyter-widgets/base",
            "_model_module_version": "1.2.0",
            "_model_name": "LayoutModel",
            "_view_count": null,
            "_view_module": "@jupyter-widgets/base",
            "_view_module_version": "1.2.0",
            "_view_name": "LayoutView",
            "align_content": null,
            "align_items": null,
            "align_self": null,
            "border": null,
            "bottom": null,
            "display": null,
            "flex": null,
            "flex_flow": null,
            "grid_area": null,
            "grid_auto_columns": null,
            "grid_auto_flow": null,
            "grid_auto_rows": null,
            "grid_column": null,
            "grid_gap": null,
            "grid_row": null,
            "grid_template_areas": null,
            "grid_template_columns": null,
            "grid_template_rows": null,
            "height": null,
            "justify_content": null,
            "justify_items": null,
            "left": null,
            "margin": null,
            "max_height": null,
            "max_width": null,
            "min_height": null,
            "min_width": null,
            "object_fit": null,
            "object_position": null,
            "order": null,
            "overflow": null,
            "overflow_x": null,
            "overflow_y": null,
            "padding": null,
            "right": null,
            "top": null,
            "visibility": null,
            "width": null
          }
        },
        "30ad1971b5fa4af588557b340aa0dd16": {
          "model_module": "@jupyter-widgets/controls",
          "model_name": "DescriptionStyleModel",
          "model_module_version": "1.5.0",
          "state": {
            "_model_module": "@jupyter-widgets/controls",
            "_model_module_version": "1.5.0",
            "_model_name": "DescriptionStyleModel",
            "_view_count": null,
            "_view_module": "@jupyter-widgets/base",
            "_view_module_version": "1.2.0",
            "_view_name": "StyleView",
            "description_width": ""
          }
        },
        "4b7f0c991a734a97933ae0851fc095f0": {
          "model_module": "@jupyter-widgets/controls",
          "model_name": "HBoxModel",
          "model_module_version": "1.5.0",
          "state": {
            "_dom_classes": [],
            "_model_module": "@jupyter-widgets/controls",
            "_model_module_version": "1.5.0",
            "_model_name": "HBoxModel",
            "_view_count": null,
            "_view_module": "@jupyter-widgets/controls",
            "_view_module_version": "1.5.0",
            "_view_name": "HBoxView",
            "box_style": "",
            "children": [
              "IPY_MODEL_560f5e9e5a9e40e498d3c52097b7cfca",
              "IPY_MODEL_d4b1af802a2e423aa3ec5bbb4df4ce78",
              "IPY_MODEL_5df4d63c4dc44130a991e109e8f57752"
            ],
            "layout": "IPY_MODEL_d5279bddc5ec4b23b22f63ec3375f7d5"
          }
        },
        "560f5e9e5a9e40e498d3c52097b7cfca": {
          "model_module": "@jupyter-widgets/controls",
          "model_name": "HTMLModel",
          "model_module_version": "1.5.0",
          "state": {
            "_dom_classes": [],
            "_model_module": "@jupyter-widgets/controls",
            "_model_module_version": "1.5.0",
            "_model_name": "HTMLModel",
            "_view_count": null,
            "_view_module": "@jupyter-widgets/controls",
            "_view_module_version": "1.5.0",
            "_view_name": "HTMLView",
            "description": "",
            "description_tooltip": null,
            "layout": "IPY_MODEL_f7f183bd660e4c66ac5759e8336bffb2",
            "placeholder": "​",
            "style": "IPY_MODEL_8f693adbae9c437fb88e75383a661d17",
            "value": "100%"
          }
        },
        "d4b1af802a2e423aa3ec5bbb4df4ce78": {
          "model_module": "@jupyter-widgets/controls",
          "model_name": "FloatProgressModel",
          "model_module_version": "1.5.0",
          "state": {
            "_dom_classes": [],
            "_model_module": "@jupyter-widgets/controls",
            "_model_module_version": "1.5.0",
            "_model_name": "FloatProgressModel",
            "_view_count": null,
            "_view_module": "@jupyter-widgets/controls",
            "_view_module_version": "1.5.0",
            "_view_name": "ProgressView",
            "bar_style": "success",
            "description": "",
            "description_tooltip": null,
            "layout": "IPY_MODEL_00eb1e1ae96449a69379d7b96976e14f",
            "max": 18,
            "min": 0,
            "orientation": "horizontal",
            "style": "IPY_MODEL_b3b3521d10c2463aa69bd377bfa9ac3e",
            "value": 18
          }
        },
        "5df4d63c4dc44130a991e109e8f57752": {
          "model_module": "@jupyter-widgets/controls",
          "model_name": "HTMLModel",
          "model_module_version": "1.5.0",
          "state": {
            "_dom_classes": [],
            "_model_module": "@jupyter-widgets/controls",
            "_model_module_version": "1.5.0",
            "_model_name": "HTMLModel",
            "_view_count": null,
            "_view_module": "@jupyter-widgets/controls",
            "_view_module_version": "1.5.0",
            "_view_name": "HTMLView",
            "description": "",
            "description_tooltip": null,
            "layout": "IPY_MODEL_cca4e1a751524d71b57cc1211de2d278",
            "placeholder": "​",
            "style": "IPY_MODEL_dae167f947584643bcfae658272dc973",
            "value": " 18/18 [00:01&lt;00:00, 11.23ba/s]"
          }
        },
        "d5279bddc5ec4b23b22f63ec3375f7d5": {
          "model_module": "@jupyter-widgets/base",
          "model_name": "LayoutModel",
          "model_module_version": "1.2.0",
          "state": {
            "_model_module": "@jupyter-widgets/base",
            "_model_module_version": "1.2.0",
            "_model_name": "LayoutModel",
            "_view_count": null,
            "_view_module": "@jupyter-widgets/base",
            "_view_module_version": "1.2.0",
            "_view_name": "LayoutView",
            "align_content": null,
            "align_items": null,
            "align_self": null,
            "border": null,
            "bottom": null,
            "display": null,
            "flex": null,
            "flex_flow": null,
            "grid_area": null,
            "grid_auto_columns": null,
            "grid_auto_flow": null,
            "grid_auto_rows": null,
            "grid_column": null,
            "grid_gap": null,
            "grid_row": null,
            "grid_template_areas": null,
            "grid_template_columns": null,
            "grid_template_rows": null,
            "height": null,
            "justify_content": null,
            "justify_items": null,
            "left": null,
            "margin": null,
            "max_height": null,
            "max_width": null,
            "min_height": null,
            "min_width": null,
            "object_fit": null,
            "object_position": null,
            "order": null,
            "overflow": null,
            "overflow_x": null,
            "overflow_y": null,
            "padding": null,
            "right": null,
            "top": null,
            "visibility": null,
            "width": null
          }
        },
        "f7f183bd660e4c66ac5759e8336bffb2": {
          "model_module": "@jupyter-widgets/base",
          "model_name": "LayoutModel",
          "model_module_version": "1.2.0",
          "state": {
            "_model_module": "@jupyter-widgets/base",
            "_model_module_version": "1.2.0",
            "_model_name": "LayoutModel",
            "_view_count": null,
            "_view_module": "@jupyter-widgets/base",
            "_view_module_version": "1.2.0",
            "_view_name": "LayoutView",
            "align_content": null,
            "align_items": null,
            "align_self": null,
            "border": null,
            "bottom": null,
            "display": null,
            "flex": null,
            "flex_flow": null,
            "grid_area": null,
            "grid_auto_columns": null,
            "grid_auto_flow": null,
            "grid_auto_rows": null,
            "grid_column": null,
            "grid_gap": null,
            "grid_row": null,
            "grid_template_areas": null,
            "grid_template_columns": null,
            "grid_template_rows": null,
            "height": null,
            "justify_content": null,
            "justify_items": null,
            "left": null,
            "margin": null,
            "max_height": null,
            "max_width": null,
            "min_height": null,
            "min_width": null,
            "object_fit": null,
            "object_position": null,
            "order": null,
            "overflow": null,
            "overflow_x": null,
            "overflow_y": null,
            "padding": null,
            "right": null,
            "top": null,
            "visibility": null,
            "width": null
          }
        },
        "8f693adbae9c437fb88e75383a661d17": {
          "model_module": "@jupyter-widgets/controls",
          "model_name": "DescriptionStyleModel",
          "model_module_version": "1.5.0",
          "state": {
            "_model_module": "@jupyter-widgets/controls",
            "_model_module_version": "1.5.0",
            "_model_name": "DescriptionStyleModel",
            "_view_count": null,
            "_view_module": "@jupyter-widgets/base",
            "_view_module_version": "1.2.0",
            "_view_name": "StyleView",
            "description_width": ""
          }
        },
        "00eb1e1ae96449a69379d7b96976e14f": {
          "model_module": "@jupyter-widgets/base",
          "model_name": "LayoutModel",
          "model_module_version": "1.2.0",
          "state": {
            "_model_module": "@jupyter-widgets/base",
            "_model_module_version": "1.2.0",
            "_model_name": "LayoutModel",
            "_view_count": null,
            "_view_module": "@jupyter-widgets/base",
            "_view_module_version": "1.2.0",
            "_view_name": "LayoutView",
            "align_content": null,
            "align_items": null,
            "align_self": null,
            "border": null,
            "bottom": null,
            "display": null,
            "flex": null,
            "flex_flow": null,
            "grid_area": null,
            "grid_auto_columns": null,
            "grid_auto_flow": null,
            "grid_auto_rows": null,
            "grid_column": null,
            "grid_gap": null,
            "grid_row": null,
            "grid_template_areas": null,
            "grid_template_columns": null,
            "grid_template_rows": null,
            "height": null,
            "justify_content": null,
            "justify_items": null,
            "left": null,
            "margin": null,
            "max_height": null,
            "max_width": null,
            "min_height": null,
            "min_width": null,
            "object_fit": null,
            "object_position": null,
            "order": null,
            "overflow": null,
            "overflow_x": null,
            "overflow_y": null,
            "padding": null,
            "right": null,
            "top": null,
            "visibility": null,
            "width": null
          }
        },
        "b3b3521d10c2463aa69bd377bfa9ac3e": {
          "model_module": "@jupyter-widgets/controls",
          "model_name": "ProgressStyleModel",
          "model_module_version": "1.5.0",
          "state": {
            "_model_module": "@jupyter-widgets/controls",
            "_model_module_version": "1.5.0",
            "_model_name": "ProgressStyleModel",
            "_view_count": null,
            "_view_module": "@jupyter-widgets/base",
            "_view_module_version": "1.2.0",
            "_view_name": "StyleView",
            "bar_color": null,
            "description_width": ""
          }
        },
        "cca4e1a751524d71b57cc1211de2d278": {
          "model_module": "@jupyter-widgets/base",
          "model_name": "LayoutModel",
          "model_module_version": "1.2.0",
          "state": {
            "_model_module": "@jupyter-widgets/base",
            "_model_module_version": "1.2.0",
            "_model_name": "LayoutModel",
            "_view_count": null,
            "_view_module": "@jupyter-widgets/base",
            "_view_module_version": "1.2.0",
            "_view_name": "LayoutView",
            "align_content": null,
            "align_items": null,
            "align_self": null,
            "border": null,
            "bottom": null,
            "display": null,
            "flex": null,
            "flex_flow": null,
            "grid_area": null,
            "grid_auto_columns": null,
            "grid_auto_flow": null,
            "grid_auto_rows": null,
            "grid_column": null,
            "grid_gap": null,
            "grid_row": null,
            "grid_template_areas": null,
            "grid_template_columns": null,
            "grid_template_rows": null,
            "height": null,
            "justify_content": null,
            "justify_items": null,
            "left": null,
            "margin": null,
            "max_height": null,
            "max_width": null,
            "min_height": null,
            "min_width": null,
            "object_fit": null,
            "object_position": null,
            "order": null,
            "overflow": null,
            "overflow_x": null,
            "overflow_y": null,
            "padding": null,
            "right": null,
            "top": null,
            "visibility": null,
            "width": null
          }
        },
        "dae167f947584643bcfae658272dc973": {
          "model_module": "@jupyter-widgets/controls",
          "model_name": "DescriptionStyleModel",
          "model_module_version": "1.5.0",
          "state": {
            "_model_module": "@jupyter-widgets/controls",
            "_model_module_version": "1.5.0",
            "_model_name": "DescriptionStyleModel",
            "_view_count": null,
            "_view_module": "@jupyter-widgets/base",
            "_view_module_version": "1.2.0",
            "_view_name": "StyleView",
            "description_width": ""
          }
        },
        "bea360f6e8bc4380ba20449486863b6e": {
          "model_module": "@jupyter-widgets/controls",
          "model_name": "HBoxModel",
          "model_module_version": "1.5.0",
          "state": {
            "_dom_classes": [],
            "_model_module": "@jupyter-widgets/controls",
            "_model_module_version": "1.5.0",
            "_model_name": "HBoxModel",
            "_view_count": null,
            "_view_module": "@jupyter-widgets/controls",
            "_view_module_version": "1.5.0",
            "_view_name": "HBoxView",
            "box_style": "",
            "children": [
              "IPY_MODEL_980f3b309dc04e2a8be740cc3a13fdb2",
              "IPY_MODEL_b9f32ca778094992b892112527515607",
              "IPY_MODEL_729e8f6fca1241abb6b4575d36af5fa8"
            ],
            "layout": "IPY_MODEL_2d497f4431a44b048a74b7faa1dd849d"
          }
        },
        "980f3b309dc04e2a8be740cc3a13fdb2": {
          "model_module": "@jupyter-widgets/controls",
          "model_name": "HTMLModel",
          "model_module_version": "1.5.0",
          "state": {
            "_dom_classes": [],
            "_model_module": "@jupyter-widgets/controls",
            "_model_module_version": "1.5.0",
            "_model_name": "HTMLModel",
            "_view_count": null,
            "_view_module": "@jupyter-widgets/controls",
            "_view_module_version": "1.5.0",
            "_view_name": "HTMLView",
            "description": "",
            "description_tooltip": null,
            "layout": "IPY_MODEL_73be630300bd48508c89c7ae3c42c398",
            "placeholder": "​",
            "style": "IPY_MODEL_8a7f5502f8ab4d7da159d4eb22f9407a",
            "value": "100%"
          }
        },
        "b9f32ca778094992b892112527515607": {
          "model_module": "@jupyter-widgets/controls",
          "model_name": "FloatProgressModel",
          "model_module_version": "1.5.0",
          "state": {
            "_dom_classes": [],
            "_model_module": "@jupyter-widgets/controls",
            "_model_module_version": "1.5.0",
            "_model_name": "FloatProgressModel",
            "_view_count": null,
            "_view_module": "@jupyter-widgets/controls",
            "_view_module_version": "1.5.0",
            "_view_name": "ProgressView",
            "bar_style": "success",
            "description": "",
            "description_tooltip": null,
            "layout": "IPY_MODEL_d2bf76bd0717496da9b3637599d222c5",
            "max": 2,
            "min": 0,
            "orientation": "horizontal",
            "style": "IPY_MODEL_638620a704be4c8592feb4d0f44f547d",
            "value": 2
          }
        },
        "729e8f6fca1241abb6b4575d36af5fa8": {
          "model_module": "@jupyter-widgets/controls",
          "model_name": "HTMLModel",
          "model_module_version": "1.5.0",
          "state": {
            "_dom_classes": [],
            "_model_module": "@jupyter-widgets/controls",
            "_model_module_version": "1.5.0",
            "_model_name": "HTMLModel",
            "_view_count": null,
            "_view_module": "@jupyter-widgets/controls",
            "_view_module_version": "1.5.0",
            "_view_name": "HTMLView",
            "description": "",
            "description_tooltip": null,
            "layout": "IPY_MODEL_496dd58fe6ae49229a7a279bcd10af02",
            "placeholder": "​",
            "style": "IPY_MODEL_29fd73dcd23f427b9cf343d2f2d07ec7",
            "value": " 2/2 [00:00&lt;00:00, 13.39ba/s]"
          }
        },
        "2d497f4431a44b048a74b7faa1dd849d": {
          "model_module": "@jupyter-widgets/base",
          "model_name": "LayoutModel",
          "model_module_version": "1.2.0",
          "state": {
            "_model_module": "@jupyter-widgets/base",
            "_model_module_version": "1.2.0",
            "_model_name": "LayoutModel",
            "_view_count": null,
            "_view_module": "@jupyter-widgets/base",
            "_view_module_version": "1.2.0",
            "_view_name": "LayoutView",
            "align_content": null,
            "align_items": null,
            "align_self": null,
            "border": null,
            "bottom": null,
            "display": null,
            "flex": null,
            "flex_flow": null,
            "grid_area": null,
            "grid_auto_columns": null,
            "grid_auto_flow": null,
            "grid_auto_rows": null,
            "grid_column": null,
            "grid_gap": null,
            "grid_row": null,
            "grid_template_areas": null,
            "grid_template_columns": null,
            "grid_template_rows": null,
            "height": null,
            "justify_content": null,
            "justify_items": null,
            "left": null,
            "margin": null,
            "max_height": null,
            "max_width": null,
            "min_height": null,
            "min_width": null,
            "object_fit": null,
            "object_position": null,
            "order": null,
            "overflow": null,
            "overflow_x": null,
            "overflow_y": null,
            "padding": null,
            "right": null,
            "top": null,
            "visibility": null,
            "width": null
          }
        },
        "73be630300bd48508c89c7ae3c42c398": {
          "model_module": "@jupyter-widgets/base",
          "model_name": "LayoutModel",
          "model_module_version": "1.2.0",
          "state": {
            "_model_module": "@jupyter-widgets/base",
            "_model_module_version": "1.2.0",
            "_model_name": "LayoutModel",
            "_view_count": null,
            "_view_module": "@jupyter-widgets/base",
            "_view_module_version": "1.2.0",
            "_view_name": "LayoutView",
            "align_content": null,
            "align_items": null,
            "align_self": null,
            "border": null,
            "bottom": null,
            "display": null,
            "flex": null,
            "flex_flow": null,
            "grid_area": null,
            "grid_auto_columns": null,
            "grid_auto_flow": null,
            "grid_auto_rows": null,
            "grid_column": null,
            "grid_gap": null,
            "grid_row": null,
            "grid_template_areas": null,
            "grid_template_columns": null,
            "grid_template_rows": null,
            "height": null,
            "justify_content": null,
            "justify_items": null,
            "left": null,
            "margin": null,
            "max_height": null,
            "max_width": null,
            "min_height": null,
            "min_width": null,
            "object_fit": null,
            "object_position": null,
            "order": null,
            "overflow": null,
            "overflow_x": null,
            "overflow_y": null,
            "padding": null,
            "right": null,
            "top": null,
            "visibility": null,
            "width": null
          }
        },
        "8a7f5502f8ab4d7da159d4eb22f9407a": {
          "model_module": "@jupyter-widgets/controls",
          "model_name": "DescriptionStyleModel",
          "model_module_version": "1.5.0",
          "state": {
            "_model_module": "@jupyter-widgets/controls",
            "_model_module_version": "1.5.0",
            "_model_name": "DescriptionStyleModel",
            "_view_count": null,
            "_view_module": "@jupyter-widgets/base",
            "_view_module_version": "1.2.0",
            "_view_name": "StyleView",
            "description_width": ""
          }
        },
        "d2bf76bd0717496da9b3637599d222c5": {
          "model_module": "@jupyter-widgets/base",
          "model_name": "LayoutModel",
          "model_module_version": "1.2.0",
          "state": {
            "_model_module": "@jupyter-widgets/base",
            "_model_module_version": "1.2.0",
            "_model_name": "LayoutModel",
            "_view_count": null,
            "_view_module": "@jupyter-widgets/base",
            "_view_module_version": "1.2.0",
            "_view_name": "LayoutView",
            "align_content": null,
            "align_items": null,
            "align_self": null,
            "border": null,
            "bottom": null,
            "display": null,
            "flex": null,
            "flex_flow": null,
            "grid_area": null,
            "grid_auto_columns": null,
            "grid_auto_flow": null,
            "grid_auto_rows": null,
            "grid_column": null,
            "grid_gap": null,
            "grid_row": null,
            "grid_template_areas": null,
            "grid_template_columns": null,
            "grid_template_rows": null,
            "height": null,
            "justify_content": null,
            "justify_items": null,
            "left": null,
            "margin": null,
            "max_height": null,
            "max_width": null,
            "min_height": null,
            "min_width": null,
            "object_fit": null,
            "object_position": null,
            "order": null,
            "overflow": null,
            "overflow_x": null,
            "overflow_y": null,
            "padding": null,
            "right": null,
            "top": null,
            "visibility": null,
            "width": null
          }
        },
        "638620a704be4c8592feb4d0f44f547d": {
          "model_module": "@jupyter-widgets/controls",
          "model_name": "ProgressStyleModel",
          "model_module_version": "1.5.0",
          "state": {
            "_model_module": "@jupyter-widgets/controls",
            "_model_module_version": "1.5.0",
            "_model_name": "ProgressStyleModel",
            "_view_count": null,
            "_view_module": "@jupyter-widgets/base",
            "_view_module_version": "1.2.0",
            "_view_name": "StyleView",
            "bar_color": null,
            "description_width": ""
          }
        },
        "496dd58fe6ae49229a7a279bcd10af02": {
          "model_module": "@jupyter-widgets/base",
          "model_name": "LayoutModel",
          "model_module_version": "1.2.0",
          "state": {
            "_model_module": "@jupyter-widgets/base",
            "_model_module_version": "1.2.0",
            "_model_name": "LayoutModel",
            "_view_count": null,
            "_view_module": "@jupyter-widgets/base",
            "_view_module_version": "1.2.0",
            "_view_name": "LayoutView",
            "align_content": null,
            "align_items": null,
            "align_self": null,
            "border": null,
            "bottom": null,
            "display": null,
            "flex": null,
            "flex_flow": null,
            "grid_area": null,
            "grid_auto_columns": null,
            "grid_auto_flow": null,
            "grid_auto_rows": null,
            "grid_column": null,
            "grid_gap": null,
            "grid_row": null,
            "grid_template_areas": null,
            "grid_template_columns": null,
            "grid_template_rows": null,
            "height": null,
            "justify_content": null,
            "justify_items": null,
            "left": null,
            "margin": null,
            "max_height": null,
            "max_width": null,
            "min_height": null,
            "min_width": null,
            "object_fit": null,
            "object_position": null,
            "order": null,
            "overflow": null,
            "overflow_x": null,
            "overflow_y": null,
            "padding": null,
            "right": null,
            "top": null,
            "visibility": null,
            "width": null
          }
        },
        "29fd73dcd23f427b9cf343d2f2d07ec7": {
          "model_module": "@jupyter-widgets/controls",
          "model_name": "DescriptionStyleModel",
          "model_module_version": "1.5.0",
          "state": {
            "_model_module": "@jupyter-widgets/controls",
            "_model_module_version": "1.5.0",
            "_model_name": "DescriptionStyleModel",
            "_view_count": null,
            "_view_module": "@jupyter-widgets/base",
            "_view_module_version": "1.2.0",
            "_view_name": "StyleView",
            "description_width": ""
          }
        }
      }
    },
    "accelerator": "GPU",
    "gpuClass": "premium"
  },
  "cells": [
    {
      "cell_type": "markdown",
      "metadata": {
        "id": "view-in-github",
        "colab_type": "text"
      },
      "source": [
        "<a href=\"https://colab.research.google.com/github/Kira1108/huggingface-examples/blob/main/PosTagging.ipynb\" target=\"_parent\"><img src=\"https://colab.research.google.com/assets/colab-badge.svg\" alt=\"Open In Colab\"/></a>"
      ]
    },
    {
      "cell_type": "code",
      "source": [
        "from IPython.display import clear_output\n",
        "\n",
        "!pip install transformers\n",
        "!pip install datasets\n",
        "!pip install evaluate\n",
        "!pip install git+https://github.com/Kira1108/huggingface_utils.git\n",
        "clear_output()"
      ],
      "metadata": {
        "id": "XcZTVQEQdNBe"
      },
      "execution_count": 1,
      "outputs": []
    },
    {
      "cell_type": "code",
      "source": [
        "import nltk\n",
        "import json\n",
        "from nltk.corpus import brown\n",
        "from dataclasses import dataclass\n",
        "from datasets import load_dataset\n",
        "from huggingface_utils.labels import LabelAligner"
      ],
      "metadata": {
        "id": "Df4xeHpNd4Zs"
      },
      "execution_count": 2,
      "outputs": []
    },
    {
      "cell_type": "markdown",
      "source": [
        "**Extract data**"
      ],
      "metadata": {
        "id": "a8w0o9CeRZf6"
      }
    },
    {
      "cell_type": "code",
      "execution_count": 3,
      "metadata": {
        "colab": {
          "base_uri": "https://localhost:8080/"
        },
        "id": "e8xjIuvaXjm5",
        "outputId": "2b5309f0-f246-4ecd-890d-e00fe18e6268"
      },
      "outputs": [
        {
          "output_type": "stream",
          "name": "stderr",
          "text": [
            "[nltk_data] Downloading package brown to /root/nltk_data...\n",
            "[nltk_data]   Package brown is already up-to-date!\n",
            "[nltk_data] Downloading package universal_tagset to /root/nltk_data...\n",
            "[nltk_data]   Package universal_tagset is already up-to-date!\n"
          ]
        }
      ],
      "source": [
        "nltk.download('brown')\n",
        "nltk.download('universal_tagset')\n",
        "corpus = brown.tagged_sents(tagset = 'universal')"
      ]
    },
    {
      "cell_type": "markdown",
      "source": [
        "**Transform Data**"
      ],
      "metadata": {
        "id": "KsBd8cw5RdGb"
      }
    },
    {
      "cell_type": "code",
      "source": [
        "@dataclass\n",
        "class TokenSequenceWriter:\n",
        "\n",
        "    fname:str\n",
        "    fitted:bool = False\n",
        "\n",
        "    def fit_labels(self, corpus):\n",
        "        \n",
        "        if self.fitted:\n",
        "            return \n",
        "        print(\"Retrieving label information......\")\n",
        "        label_names = list({label for sent in corpus for word, label in sent})\n",
        "        self.label_names = sorted(label_names)\n",
        "        self.id2label = {i:l for i,l in enumerate(label_names)}\n",
        "        self.label2id = {v:k for k,v in self.id2label.items()}\n",
        "        self.fitted = True\n",
        "\n",
        "    \n",
        "    def format_corpus(self,corpus):\n",
        "        self.fit_labels(corpus)\n",
        "\n",
        "        data = []\n",
        "        label_names = set()\n",
        "        label = set\n",
        "        for sent in corpus:\n",
        "            inputs = []\n",
        "            targets = []\n",
        "            for in_,tok_ in sent:\n",
        "                inputs.append(in_)\n",
        "                targets.append(self.label2id[tok_])\n",
        "            data.append({\n",
        "                \"tokens\":inputs,\n",
        "                \"labels\":targets\n",
        "            })\n",
        "        return data\n",
        "\n",
        "    def _to_json(self, data):\n",
        "        with open(self.fname + \".json\",'w') as f:\n",
        "            for line in data:\n",
        "                f.write(json.dumps(line) + \"\\n\")\n",
        "\n",
        "        with open(self.fname + \"_labelname.json\",'w') as f:\n",
        "            f.write(json.dumps({'label_names':self.label_names}))\n",
        "\n",
        "    def write(self, corpus):\n",
        "        print(f\"Writing data to {self.fname}.......\")\n",
        "        self._to_json(self.format_corpus(corpus))\n",
        "        print(f\"Data Write to {self.fname} success.\")"
      ],
      "metadata": {
        "id": "ipfpQbKRY549"
      },
      "execution_count": 4,
      "outputs": []
    },
    {
      "cell_type": "code",
      "source": [
        "datawriter = TokenSequenceWriter(\"brown\")\n",
        "datawriter.write(corpus)"
      ],
      "metadata": {
        "colab": {
          "base_uri": "https://localhost:8080/"
        },
        "id": "1eQgEtuIap9n",
        "outputId": "8b445045-9ef5-4554-98a6-a26e1b1ffc7d"
      },
      "execution_count": 5,
      "outputs": [
        {
          "output_type": "stream",
          "name": "stdout",
          "text": [
            "Writing data to brown.......\n",
            "Retrieving label information......\n",
            "Data Write to brown success.\n"
          ]
        }
      ]
    },
    {
      "cell_type": "markdown",
      "source": [
        "**Load Data**"
      ],
      "metadata": {
        "id": "2Yh6sTtERfRh"
      }
    },
    {
      "cell_type": "code",
      "source": [
        "# data = load_dataset(\"json\",data_files = 'brown.json')\n",
        "# label_names = json.load(open('brown_labelname.json','r'))['label_names']\n",
        "# id2label = {i:l for i,l in enumerate(label_names)}\n",
        "# label2id = {v:k for k,v in id2label.items()}\n",
        "# data = data['train'].train_test_split(test_size = 0.1)\n",
        "\n",
        "data = load_dataset(\"json\",data_files = 'brown.json')\n",
        "data = data['train'].shuffle().select(range(20000))\n",
        "label_names = json.load(open('brown_labelname.json','r'))['label_names']\n",
        "id2label = {i:l for i,l in enumerate(label_names)}\n",
        "label2id = {v:k for k,v in id2label.items()}\n",
        "data = data.train_test_split(test_size = 0.1)\n"
      ],
      "metadata": {
        "colab": {
          "base_uri": "https://localhost:8080/",
          "height": 85,
          "referenced_widgets": [
            "7f234e5e66384841b36c174d6e29470f",
            "367e8f7569d64d11ac9235803b8295c0",
            "27f496a8cb6a44339bfd32a020b07210",
            "73bb17b55ff94990b1a6f86b05abdff1",
            "0cee6be39fd3493ab2f2887d8d5b1450",
            "1773c4cd635e4b4dbc2cc862e18ad4eb",
            "1075eff6814f474dbddd90e3a7f9f84f",
            "80dd5b2bed9b4a2da9e054bf3e51468a",
            "bc6037663e55489d8c086a3197525796",
            "68599cf4dd284715a16fbf3a257de33c",
            "30ad1971b5fa4af588557b340aa0dd16"
          ]
        },
        "id": "LEHPM9g4aymj",
        "outputId": "b26c6f21-14ea-4ea4-d0b1-ba4a5b40117e"
      },
      "execution_count": 22,
      "outputs": [
        {
          "output_type": "stream",
          "name": "stderr",
          "text": [
            "WARNING:datasets.builder:Using custom data configuration default-1115c41d85d1c8ed\n",
            "WARNING:datasets.builder:Found cached dataset json (/root/.cache/huggingface/datasets/json/default-1115c41d85d1c8ed/0.0.0/0f7e3662623656454fcd2b650f34e886a7db4b9104504885bd462096cc7a9f51)\n"
          ]
        },
        {
          "output_type": "display_data",
          "data": {
            "text/plain": [
              "  0%|          | 0/1 [00:00<?, ?it/s]"
            ],
            "application/vnd.jupyter.widget-view+json": {
              "version_major": 2,
              "version_minor": 0,
              "model_id": "7f234e5e66384841b36c174d6e29470f"
            }
          },
          "metadata": {}
        }
      ]
    },
    {
      "cell_type": "markdown",
      "source": [
        "**Tokenize Data**\n",
        "\n",
        "You should create a batch tokenization function like:\n",
        "\n",
        "```python\n",
        "from transformers import AutoTokenizer\n",
        "\n",
        "checkpoint = 'distilbert-base-cased'\n",
        "\n",
        "tokenizer = AutoTokenizer.from_pretrained(checkpoint)\n",
        "\n",
        "aligner = LabelAligner(label_names = label_names,use_iob = False)\n",
        "\n",
        "def tokenize_fn(batch):\n",
        "\n",
        "    tokenized_inputs = tokenizer(\n",
        "        batch['tokens'], \n",
        "        truncation = True, \n",
        "        is_split_into_words = True)\n",
        "    \n",
        "    labels = batch['labels']\n",
        "\n",
        "    aligned_labels = [\n",
        "        aligner(labels = l, word_ids = tokenized_inputs.word_ids(i)) \n",
        "        for i,l in enumerate(labels)]\n",
        "    tokenized_inputs['labels'] = aligned_labels\n",
        "    return tokenized_inputs\n",
        "```\n",
        "\n"
      ],
      "metadata": {
        "id": "d5FJ7T4oQ_TW"
      }
    },
    {
      "cell_type": "markdown",
      "source": [
        "Or encapsulate the functionalities somewhere else"
      ],
      "metadata": {
        "id": "zV0XmjsKRRPt"
      }
    },
    {
      "cell_type": "code",
      "source": [
        "from huggingface_utils.tokenize import TokenClassifyTokenizeFn\n",
        "from transformers import AutoTokenizer\n",
        "# choose a checkpoint\n",
        "checkpoint = 'distilbert-base-cased'\n",
        "\n",
        "# load the default tokenizer\n",
        "tokenizer = AutoTokenizer.from_pretrained(checkpoint)\n",
        "\n",
        "# load a label aligner\n",
        "aligner = LabelAligner(label_names = label_names,use_iob = False)\n",
        "\n",
        "# create batch tokenize function\n",
        "tokenize_fn = TokenClassifyTokenizeFn(tokenizer = tokenizer, label_aligner = aligner)\n",
        "\n",
        "# test out things\n",
        "# print(\"Test tokenize function:\")\n",
        "# tokenize_fn(data['train'][:1])\n",
        "\n",
        "tokenized_dataset = data.map(\n",
        "    tokenize_fn, \n",
        "    batched = True,\n",
        "    remove_columns = ['tokens'])"
      ],
      "metadata": {
        "colab": {
          "base_uri": "https://localhost:8080/",
          "height": 1000,
          "referenced_widgets": [
            "4b7f0c991a734a97933ae0851fc095f0",
            "560f5e9e5a9e40e498d3c52097b7cfca",
            "d4b1af802a2e423aa3ec5bbb4df4ce78",
            "5df4d63c4dc44130a991e109e8f57752",
            "d5279bddc5ec4b23b22f63ec3375f7d5",
            "f7f183bd660e4c66ac5759e8336bffb2",
            "8f693adbae9c437fb88e75383a661d17",
            "00eb1e1ae96449a69379d7b96976e14f",
            "b3b3521d10c2463aa69bd377bfa9ac3e",
            "cca4e1a751524d71b57cc1211de2d278",
            "dae167f947584643bcfae658272dc973",
            "bea360f6e8bc4380ba20449486863b6e",
            "980f3b309dc04e2a8be740cc3a13fdb2",
            "b9f32ca778094992b892112527515607",
            "729e8f6fca1241abb6b4575d36af5fa8",
            "2d497f4431a44b048a74b7faa1dd849d",
            "73be630300bd48508c89c7ae3c42c398",
            "8a7f5502f8ab4d7da159d4eb22f9407a",
            "d2bf76bd0717496da9b3637599d222c5",
            "638620a704be4c8592feb4d0f44f547d",
            "496dd58fe6ae49229a7a279bcd10af02",
            "29fd73dcd23f427b9cf343d2f2d07ec7"
          ]
        },
        "id": "Y5J2kKQLQQT0",
        "outputId": "235dcb59-183a-4716-c12a-1fca569805fa"
      },
      "execution_count": 23,
      "outputs": [
        {
          "output_type": "stream",
          "name": "stderr",
          "text": [
            "loading configuration file config.json from cache at /root/.cache/huggingface/hub/models--distilbert-base-cased/snapshots/9d7568e4b20ed5db15ee30e99c7219bde9990762/config.json\n",
            "Model config DistilBertConfig {\n",
            "  \"_name_or_path\": \"distilbert-base-cased\",\n",
            "  \"activation\": \"gelu\",\n",
            "  \"attention_dropout\": 0.1,\n",
            "  \"dim\": 768,\n",
            "  \"dropout\": 0.1,\n",
            "  \"hidden_dim\": 3072,\n",
            "  \"initializer_range\": 0.02,\n",
            "  \"max_position_embeddings\": 512,\n",
            "  \"model_type\": \"distilbert\",\n",
            "  \"n_heads\": 12,\n",
            "  \"n_layers\": 6,\n",
            "  \"output_past\": true,\n",
            "  \"pad_token_id\": 0,\n",
            "  \"qa_dropout\": 0.1,\n",
            "  \"seq_classif_dropout\": 0.2,\n",
            "  \"sinusoidal_pos_embds\": false,\n",
            "  \"tie_weights_\": true,\n",
            "  \"transformers_version\": \"4.25.1\",\n",
            "  \"vocab_size\": 28996\n",
            "}\n",
            "\n",
            "loading file vocab.txt from cache at /root/.cache/huggingface/hub/models--distilbert-base-cased/snapshots/9d7568e4b20ed5db15ee30e99c7219bde9990762/vocab.txt\n",
            "loading file tokenizer.json from cache at /root/.cache/huggingface/hub/models--distilbert-base-cased/snapshots/9d7568e4b20ed5db15ee30e99c7219bde9990762/tokenizer.json\n",
            "loading file added_tokens.json from cache at None\n",
            "loading file special_tokens_map.json from cache at None\n",
            "loading file tokenizer_config.json from cache at /root/.cache/huggingface/hub/models--distilbert-base-cased/snapshots/9d7568e4b20ed5db15ee30e99c7219bde9990762/tokenizer_config.json\n",
            "loading configuration file config.json from cache at /root/.cache/huggingface/hub/models--distilbert-base-cased/snapshots/9d7568e4b20ed5db15ee30e99c7219bde9990762/config.json\n",
            "Model config DistilBertConfig {\n",
            "  \"_name_or_path\": \"distilbert-base-cased\",\n",
            "  \"activation\": \"gelu\",\n",
            "  \"attention_dropout\": 0.1,\n",
            "  \"dim\": 768,\n",
            "  \"dropout\": 0.1,\n",
            "  \"hidden_dim\": 3072,\n",
            "  \"initializer_range\": 0.02,\n",
            "  \"max_position_embeddings\": 512,\n",
            "  \"model_type\": \"distilbert\",\n",
            "  \"n_heads\": 12,\n",
            "  \"n_layers\": 6,\n",
            "  \"output_past\": true,\n",
            "  \"pad_token_id\": 0,\n",
            "  \"qa_dropout\": 0.1,\n",
            "  \"seq_classif_dropout\": 0.2,\n",
            "  \"sinusoidal_pos_embds\": false,\n",
            "  \"tie_weights_\": true,\n",
            "  \"transformers_version\": \"4.25.1\",\n",
            "  \"vocab_size\": 28996\n",
            "}\n",
            "\n"
          ]
        },
        {
          "output_type": "display_data",
          "data": {
            "text/plain": [
              "  0%|          | 0/18 [00:00<?, ?ba/s]"
            ],
            "application/vnd.jupyter.widget-view+json": {
              "version_major": 2,
              "version_minor": 0,
              "model_id": "4b7f0c991a734a97933ae0851fc095f0"
            }
          },
          "metadata": {}
        },
        {
          "output_type": "display_data",
          "data": {
            "text/plain": [
              "  0%|          | 0/2 [00:00<?, ?ba/s]"
            ],
            "application/vnd.jupyter.widget-view+json": {
              "version_major": 2,
              "version_minor": 0,
              "model_id": "bea360f6e8bc4380ba20449486863b6e"
            }
          },
          "metadata": {}
        }
      ]
    },
    {
      "cell_type": "code",
      "source": [
        "tokenized_dataset"
      ],
      "metadata": {
        "colab": {
          "base_uri": "https://localhost:8080/"
        },
        "id": "Fh6wT-bRTNy9",
        "outputId": "732082cc-fe72-45be-af4b-be0839c6fb6d"
      },
      "execution_count": 24,
      "outputs": [
        {
          "output_type": "execute_result",
          "data": {
            "text/plain": [
              "DatasetDict({\n",
              "    train: Dataset({\n",
              "        features: ['labels', 'input_ids', 'attention_mask'],\n",
              "        num_rows: 18000\n",
              "    })\n",
              "    test: Dataset({\n",
              "        features: ['labels', 'input_ids', 'attention_mask'],\n",
              "        num_rows: 2000\n",
              "    })\n",
              "})"
            ]
          },
          "metadata": {},
          "execution_count": 24
        }
      ]
    },
    {
      "cell_type": "code",
      "source": [
        "from transformers import DataCollatorForTokenClassification\n",
        "from transformers import AutoModelForTokenClassification\n",
        "from transformers import TrainingArguments\n",
        "from transformers import Trainer\n",
        "from transformers import pipeline\n",
        "import numpy as np\n",
        "from sklearn.metrics import f1_score, accuracy_score"
      ],
      "metadata": {
        "id": "hmMMUzfIdNub"
      },
      "execution_count": 25,
      "outputs": []
    },
    {
      "cell_type": "markdown",
      "source": [
        "**Collator and Metric**"
      ],
      "metadata": {
        "id": "WJknuJFaXjnL"
      }
    },
    {
      "cell_type": "code",
      "source": [
        "data_collator = DataCollatorForTokenClassification(tokenizer = tokenizer)\n"
      ],
      "metadata": {
        "id": "-Ors6QMXSDpT"
      },
      "execution_count": 26,
      "outputs": []
    },
    {
      "cell_type": "markdown",
      "source": [
        "**Model and trainer creation**"
      ],
      "metadata": {
        "id": "Oon_MRKEXnL4"
      }
    },
    {
      "cell_type": "code",
      "source": [
        "def flatten(list_of_lists):\n",
        "    \"\"\"Simple flatten function\"\"\"\n",
        "    return [val for sublist in list_of_lists for val in sublist]\n",
        "\n",
        "def compute_metrics(logits_and_labels):\n",
        "    logits, labels = logits_and_labels\n",
        "\n",
        "    # compute labels from logits\n",
        "    preds = np.argmax(logits, axis = -1)\n",
        "\n",
        "    # mask with -100\n",
        "    fill_with_null = np.where(np.array(labels) == -100, -100, preds)\n",
        "\n",
        "    # filter out -100\n",
        "    pred_labels = [[l for l in label if l!= -100] for label in fill_with_null]\n",
        "    labels = [[l for l in label if l!= -100] for label in labels]\n",
        "    pred_labels = flatten(pred_labels)\n",
        "    labels = flatten(labels)\n",
        "\n",
        "    preds = np.array(preds)\n",
        "    return {\n",
        "        \"f1\":f1_score(labels, pred_labels, average = 'macro'),\n",
        "        \"accuracy\":accuracy_score(labels, pred_labels)\n",
        "    }\n",
        "\n",
        "import numpy as np\n",
        "logits = np.random.random((10,3))\n",
        "labels = np.random.choice([0,1,2], size = (1,10))\n",
        "print(np.argmax(logits, axis = -1))\n",
        "print(labels[0])\n",
        "compute_metrics((logits, labels))"
      ],
      "metadata": {
        "colab": {
          "base_uri": "https://localhost:8080/"
        },
        "id": "umauBB4F--bx",
        "outputId": "b7034dca-cb04-48f5-a7be-2d0bcd0dfa79"
      },
      "execution_count": 27,
      "outputs": [
        {
          "output_type": "stream",
          "name": "stdout",
          "text": [
            "[0 2 2 2 1 1 0 1 2 2]\n",
            "[2 2 1 0 1 1 1 1 1 1]\n"
          ]
        },
        {
          "output_type": "execute_result",
          "data": {
            "text/plain": [
              "{'f1': 0.29523809523809524, 'accuracy': 0.4}"
            ]
          },
          "metadata": {},
          "execution_count": 27
        }
      ]
    },
    {
      "cell_type": "code",
      "source": [
        "model = AutoModelForTokenClassification.from_pretrained(\n",
        "    checkpoint, \n",
        "    id2label = id2label, \n",
        "    label2id = label2id\n",
        ")\n",
        "\n",
        "training_args  = TrainingArguments(\n",
        "    \"distilbert_finetuned-ner\",\n",
        "    evaluation_strategy = \"epoch\",\n",
        "    save_strategy = \"epoch\",\n",
        "    learning_rate =2e-5,\n",
        "    num_train_epochs = 3,\n",
        "    weight_decay = 0.01\n",
        ")\n",
        "\n",
        "trainer = Trainer(\n",
        "    model = model,\n",
        "    tokenizer = tokenizer,\n",
        "    args = training_args,\n",
        "    train_dataset = tokenized_dataset['train'],\n",
        "    eval_dataset = tokenized_dataset['test'],\n",
        "    data_collator = data_collator,\n",
        "    compute_metrics = compute_metrics,\n",
        ")"
      ],
      "metadata": {
        "colab": {
          "base_uri": "https://localhost:8080/"
        },
        "id": "1-a0Wl14SX60",
        "outputId": "665cb9a5-6ce0-45b9-9f0a-56b079afd9bb"
      },
      "execution_count": 28,
      "outputs": [
        {
          "output_type": "stream",
          "name": "stderr",
          "text": [
            "loading configuration file config.json from cache at /root/.cache/huggingface/hub/models--distilbert-base-cased/snapshots/9d7568e4b20ed5db15ee30e99c7219bde9990762/config.json\n",
            "Model config DistilBertConfig {\n",
            "  \"_name_or_path\": \"distilbert-base-cased\",\n",
            "  \"activation\": \"gelu\",\n",
            "  \"attention_dropout\": 0.1,\n",
            "  \"dim\": 768,\n",
            "  \"dropout\": 0.1,\n",
            "  \"hidden_dim\": 3072,\n",
            "  \"id2label\": {\n",
            "    \"0\": \".\",\n",
            "    \"1\": \"ADJ\",\n",
            "    \"2\": \"ADP\",\n",
            "    \"3\": \"ADV\",\n",
            "    \"4\": \"CONJ\",\n",
            "    \"5\": \"DET\",\n",
            "    \"6\": \"NOUN\",\n",
            "    \"7\": \"NUM\",\n",
            "    \"8\": \"PRON\",\n",
            "    \"9\": \"PRT\",\n",
            "    \"10\": \"VERB\",\n",
            "    \"11\": \"X\"\n",
            "  },\n",
            "  \"initializer_range\": 0.02,\n",
            "  \"label2id\": {\n",
            "    \".\": 0,\n",
            "    \"ADJ\": 1,\n",
            "    \"ADP\": 2,\n",
            "    \"ADV\": 3,\n",
            "    \"CONJ\": 4,\n",
            "    \"DET\": 5,\n",
            "    \"NOUN\": 6,\n",
            "    \"NUM\": 7,\n",
            "    \"PRON\": 8,\n",
            "    \"PRT\": 9,\n",
            "    \"VERB\": 10,\n",
            "    \"X\": 11\n",
            "  },\n",
            "  \"max_position_embeddings\": 512,\n",
            "  \"model_type\": \"distilbert\",\n",
            "  \"n_heads\": 12,\n",
            "  \"n_layers\": 6,\n",
            "  \"output_past\": true,\n",
            "  \"pad_token_id\": 0,\n",
            "  \"qa_dropout\": 0.1,\n",
            "  \"seq_classif_dropout\": 0.2,\n",
            "  \"sinusoidal_pos_embds\": false,\n",
            "  \"tie_weights_\": true,\n",
            "  \"transformers_version\": \"4.25.1\",\n",
            "  \"vocab_size\": 28996\n",
            "}\n",
            "\n",
            "loading weights file pytorch_model.bin from cache at /root/.cache/huggingface/hub/models--distilbert-base-cased/snapshots/9d7568e4b20ed5db15ee30e99c7219bde9990762/pytorch_model.bin\n",
            "Some weights of the model checkpoint at distilbert-base-cased were not used when initializing DistilBertForTokenClassification: ['vocab_transform.weight', 'vocab_layer_norm.bias', 'vocab_projector.weight', 'vocab_projector.bias', 'vocab_transform.bias', 'vocab_layer_norm.weight']\n",
            "- This IS expected if you are initializing DistilBertForTokenClassification from the checkpoint of a model trained on another task or with another architecture (e.g. initializing a BertForSequenceClassification model from a BertForPreTraining model).\n",
            "- This IS NOT expected if you are initializing DistilBertForTokenClassification from the checkpoint of a model that you expect to be exactly identical (initializing a BertForSequenceClassification model from a BertForSequenceClassification model).\n",
            "Some weights of DistilBertForTokenClassification were not initialized from the model checkpoint at distilbert-base-cased and are newly initialized: ['classifier.bias', 'classifier.weight']\n",
            "You should probably TRAIN this model on a down-stream task to be able to use it for predictions and inference.\n",
            "PyTorch: setting up devices\n",
            "The default value for the training argument `--report_to` will change in v5 (from all installed integrations to none). In v5, you will need to use `--report_to all` to get the same behavior as now. You should start updating your code and make this info disappear :-).\n"
          ]
        }
      ]
    },
    {
      "cell_type": "markdown",
      "source": [
        "**Model training**"
      ],
      "metadata": {
        "id": "D_2aje2tXs1u"
      }
    },
    {
      "cell_type": "code",
      "source": [
        "trainer.train()"
      ],
      "metadata": {
        "colab": {
          "base_uri": "https://localhost:8080/",
          "height": 957
        },
        "id": "-sIhKkBeTkSG",
        "outputId": "dea08f87-b022-405b-db81-3f4a6c3b7b28"
      },
      "execution_count": 29,
      "outputs": [
        {
          "output_type": "stream",
          "name": "stderr",
          "text": [
            "/usr/local/lib/python3.8/dist-packages/transformers/optimization.py:306: FutureWarning: This implementation of AdamW is deprecated and will be removed in a future version. Use the PyTorch implementation torch.optim.AdamW instead, or set `no_deprecation_warning=True` to disable this warning\n",
            "  warnings.warn(\n",
            "***** Running training *****\n",
            "  Num examples = 18000\n",
            "  Num Epochs = 3\n",
            "  Instantaneous batch size per device = 8\n",
            "  Total train batch size (w. parallel, distributed & accumulation) = 8\n",
            "  Gradient Accumulation steps = 1\n",
            "  Total optimization steps = 6750\n",
            "  Number of trainable parameters = 65200140\n",
            "You're using a DistilBertTokenizerFast tokenizer. Please note that with a fast tokenizer, using the `__call__` method is faster than using a method to encode the text followed by a call to the `pad` method to get a padded encoding.\n"
          ]
        },
        {
          "output_type": "display_data",
          "data": {
            "text/plain": [
              "<IPython.core.display.HTML object>"
            ],
            "text/html": [
              "\n",
              "    <div>\n",
              "      \n",
              "      <progress value='6750' max='6750' style='width:300px; height:20px; vertical-align: middle;'></progress>\n",
              "      [6750/6750 03:42, Epoch 3/3]\n",
              "    </div>\n",
              "    <table border=\"1\" class=\"dataframe\">\n",
              "  <thead>\n",
              " <tr style=\"text-align: left;\">\n",
              "      <th>Epoch</th>\n",
              "      <th>Training Loss</th>\n",
              "      <th>Validation Loss</th>\n",
              "      <th>F1</th>\n",
              "      <th>Accuracy</th>\n",
              "    </tr>\n",
              "  </thead>\n",
              "  <tbody>\n",
              "    <tr>\n",
              "      <td>1</td>\n",
              "      <td>0.065700</td>\n",
              "      <td>0.054580</td>\n",
              "      <td>0.953562</td>\n",
              "      <td>0.984542</td>\n",
              "    </tr>\n",
              "    <tr>\n",
              "      <td>2</td>\n",
              "      <td>0.036500</td>\n",
              "      <td>0.048835</td>\n",
              "      <td>0.961846</td>\n",
              "      <td>0.986461</td>\n",
              "    </tr>\n",
              "    <tr>\n",
              "      <td>3</td>\n",
              "      <td>0.019800</td>\n",
              "      <td>0.049845</td>\n",
              "      <td>0.966550</td>\n",
              "      <td>0.986990</td>\n",
              "    </tr>\n",
              "  </tbody>\n",
              "</table><p>"
            ]
          },
          "metadata": {}
        },
        {
          "output_type": "stream",
          "name": "stderr",
          "text": [
            "***** Running Evaluation *****\n",
            "  Num examples = 2000\n",
            "  Batch size = 8\n",
            "Saving model checkpoint to distilbert_finetuned-ner/checkpoint-2250\n",
            "Configuration saved in distilbert_finetuned-ner/checkpoint-2250/config.json\n",
            "Model weights saved in distilbert_finetuned-ner/checkpoint-2250/pytorch_model.bin\n",
            "tokenizer config file saved in distilbert_finetuned-ner/checkpoint-2250/tokenizer_config.json\n",
            "Special tokens file saved in distilbert_finetuned-ner/checkpoint-2250/special_tokens_map.json\n",
            "***** Running Evaluation *****\n",
            "  Num examples = 2000\n",
            "  Batch size = 8\n",
            "Saving model checkpoint to distilbert_finetuned-ner/checkpoint-4500\n",
            "Configuration saved in distilbert_finetuned-ner/checkpoint-4500/config.json\n",
            "Model weights saved in distilbert_finetuned-ner/checkpoint-4500/pytorch_model.bin\n",
            "tokenizer config file saved in distilbert_finetuned-ner/checkpoint-4500/tokenizer_config.json\n",
            "Special tokens file saved in distilbert_finetuned-ner/checkpoint-4500/special_tokens_map.json\n",
            "***** Running Evaluation *****\n",
            "  Num examples = 2000\n",
            "  Batch size = 8\n",
            "Saving model checkpoint to distilbert_finetuned-ner/checkpoint-6750\n",
            "Configuration saved in distilbert_finetuned-ner/checkpoint-6750/config.json\n",
            "Model weights saved in distilbert_finetuned-ner/checkpoint-6750/pytorch_model.bin\n",
            "tokenizer config file saved in distilbert_finetuned-ner/checkpoint-6750/tokenizer_config.json\n",
            "Special tokens file saved in distilbert_finetuned-ner/checkpoint-6750/special_tokens_map.json\n",
            "\n",
            "\n",
            "Training completed. Do not forget to share your model on huggingface.co/models =)\n",
            "\n",
            "\n"
          ]
        },
        {
          "output_type": "execute_result",
          "data": {
            "text/plain": [
              "TrainOutput(global_step=6750, training_loss=0.06167837792855722, metrics={'train_runtime': 223.0145, 'train_samples_per_second': 242.137, 'train_steps_per_second': 30.267, 'total_flos': 696606986751552.0, 'train_loss': 0.06167837792855722, 'epoch': 3.0})"
            ]
          },
          "metadata": {},
          "execution_count": 29
        }
      ]
    },
    {
      "cell_type": "markdown",
      "source": [
        "**Model persistence**"
      ],
      "metadata": {
        "id": "eqatyWlbXvP3"
      }
    },
    {
      "cell_type": "code",
      "source": [
        "trainer.save_model(\"my-saved-model\")"
      ],
      "metadata": {
        "colab": {
          "base_uri": "https://localhost:8080/"
        },
        "id": "P2eePD0DWj1L",
        "outputId": "1bb9c18c-4781-4aad-f457-38880a1a8ecf"
      },
      "execution_count": 30,
      "outputs": [
        {
          "output_type": "stream",
          "name": "stderr",
          "text": [
            "Saving model checkpoint to my-saved-model\n",
            "Configuration saved in my-saved-model/config.json\n",
            "Model weights saved in my-saved-model/pytorch_model.bin\n",
            "tokenizer config file saved in my-saved-model/tokenizer_config.json\n",
            "Special tokens file saved in my-saved-model/special_tokens_map.json\n"
          ]
        }
      ]
    },
    {
      "cell_type": "markdown",
      "source": [
        "**Use Model**"
      ],
      "metadata": {
        "id": "9cPKLvKSXx82"
      }
    },
    {
      "cell_type": "code",
      "source": [
        "ner = pipeline(\"token-classification\", model = 'my-saved-model', aggregation_strategy = 'simple', device = 0)\n",
        "ner(\"Bill and John went to Washonton DC yesterday.\")"
      ],
      "metadata": {
        "colab": {
          "base_uri": "https://localhost:8080/"
        },
        "id": "pIRBDMEoWpBZ",
        "outputId": "855dd5b0-e5e3-42fd-ac25-b6acb19bb91f"
      },
      "execution_count": 31,
      "outputs": [
        {
          "output_type": "stream",
          "name": "stderr",
          "text": [
            "loading configuration file my-saved-model/config.json\n",
            "Model config DistilBertConfig {\n",
            "  \"_name_or_path\": \"my-saved-model\",\n",
            "  \"activation\": \"gelu\",\n",
            "  \"architectures\": [\n",
            "    \"DistilBertForTokenClassification\"\n",
            "  ],\n",
            "  \"attention_dropout\": 0.1,\n",
            "  \"dim\": 768,\n",
            "  \"dropout\": 0.1,\n",
            "  \"hidden_dim\": 3072,\n",
            "  \"id2label\": {\n",
            "    \"0\": \".\",\n",
            "    \"1\": \"ADJ\",\n",
            "    \"2\": \"ADP\",\n",
            "    \"3\": \"ADV\",\n",
            "    \"4\": \"CONJ\",\n",
            "    \"5\": \"DET\",\n",
            "    \"6\": \"NOUN\",\n",
            "    \"7\": \"NUM\",\n",
            "    \"8\": \"PRON\",\n",
            "    \"9\": \"PRT\",\n",
            "    \"10\": \"VERB\",\n",
            "    \"11\": \"X\"\n",
            "  },\n",
            "  \"initializer_range\": 0.02,\n",
            "  \"label2id\": {\n",
            "    \".\": 0,\n",
            "    \"ADJ\": 1,\n",
            "    \"ADP\": 2,\n",
            "    \"ADV\": 3,\n",
            "    \"CONJ\": 4,\n",
            "    \"DET\": 5,\n",
            "    \"NOUN\": 6,\n",
            "    \"NUM\": 7,\n",
            "    \"PRON\": 8,\n",
            "    \"PRT\": 9,\n",
            "    \"VERB\": 10,\n",
            "    \"X\": 11\n",
            "  },\n",
            "  \"max_position_embeddings\": 512,\n",
            "  \"model_type\": \"distilbert\",\n",
            "  \"n_heads\": 12,\n",
            "  \"n_layers\": 6,\n",
            "  \"output_past\": true,\n",
            "  \"pad_token_id\": 0,\n",
            "  \"qa_dropout\": 0.1,\n",
            "  \"seq_classif_dropout\": 0.2,\n",
            "  \"sinusoidal_pos_embds\": false,\n",
            "  \"tie_weights_\": true,\n",
            "  \"torch_dtype\": \"float32\",\n",
            "  \"transformers_version\": \"4.25.1\",\n",
            "  \"vocab_size\": 28996\n",
            "}\n",
            "\n",
            "loading configuration file my-saved-model/config.json\n",
            "Model config DistilBertConfig {\n",
            "  \"_name_or_path\": \"my-saved-model\",\n",
            "  \"activation\": \"gelu\",\n",
            "  \"architectures\": [\n",
            "    \"DistilBertForTokenClassification\"\n",
            "  ],\n",
            "  \"attention_dropout\": 0.1,\n",
            "  \"dim\": 768,\n",
            "  \"dropout\": 0.1,\n",
            "  \"hidden_dim\": 3072,\n",
            "  \"id2label\": {\n",
            "    \"0\": \".\",\n",
            "    \"1\": \"ADJ\",\n",
            "    \"2\": \"ADP\",\n",
            "    \"3\": \"ADV\",\n",
            "    \"4\": \"CONJ\",\n",
            "    \"5\": \"DET\",\n",
            "    \"6\": \"NOUN\",\n",
            "    \"7\": \"NUM\",\n",
            "    \"8\": \"PRON\",\n",
            "    \"9\": \"PRT\",\n",
            "    \"10\": \"VERB\",\n",
            "    \"11\": \"X\"\n",
            "  },\n",
            "  \"initializer_range\": 0.02,\n",
            "  \"label2id\": {\n",
            "    \".\": 0,\n",
            "    \"ADJ\": 1,\n",
            "    \"ADP\": 2,\n",
            "    \"ADV\": 3,\n",
            "    \"CONJ\": 4,\n",
            "    \"DET\": 5,\n",
            "    \"NOUN\": 6,\n",
            "    \"NUM\": 7,\n",
            "    \"PRON\": 8,\n",
            "    \"PRT\": 9,\n",
            "    \"VERB\": 10,\n",
            "    \"X\": 11\n",
            "  },\n",
            "  \"max_position_embeddings\": 512,\n",
            "  \"model_type\": \"distilbert\",\n",
            "  \"n_heads\": 12,\n",
            "  \"n_layers\": 6,\n",
            "  \"output_past\": true,\n",
            "  \"pad_token_id\": 0,\n",
            "  \"qa_dropout\": 0.1,\n",
            "  \"seq_classif_dropout\": 0.2,\n",
            "  \"sinusoidal_pos_embds\": false,\n",
            "  \"tie_weights_\": true,\n",
            "  \"torch_dtype\": \"float32\",\n",
            "  \"transformers_version\": \"4.25.1\",\n",
            "  \"vocab_size\": 28996\n",
            "}\n",
            "\n",
            "loading weights file my-saved-model/pytorch_model.bin\n",
            "All model checkpoint weights were used when initializing DistilBertForTokenClassification.\n",
            "\n",
            "All the weights of DistilBertForTokenClassification were initialized from the model checkpoint at my-saved-model.\n",
            "If your task is similar to the task the model of the checkpoint was trained on, you can already use DistilBertForTokenClassification for predictions without further training.\n",
            "loading file vocab.txt\n",
            "loading file tokenizer.json\n",
            "loading file added_tokens.json\n",
            "loading file special_tokens_map.json\n",
            "loading file tokenizer_config.json\n"
          ]
        },
        {
          "output_type": "execute_result",
          "data": {
            "text/plain": [
              "[{'entity_group': 'NOUN',\n",
              "  'score': 0.9990263,\n",
              "  'word': 'Bill',\n",
              "  'start': 0,\n",
              "  'end': 4},\n",
              " {'entity_group': 'CONJ',\n",
              "  'score': 0.999728,\n",
              "  'word': 'and',\n",
              "  'start': 5,\n",
              "  'end': 8},\n",
              " {'entity_group': 'NOUN',\n",
              "  'score': 0.99969137,\n",
              "  'word': 'John',\n",
              "  'start': 9,\n",
              "  'end': 13},\n",
              " {'entity_group': 'X',\n",
              "  'score': 0.9998166,\n",
              "  'word': 'went',\n",
              "  'start': 14,\n",
              "  'end': 18},\n",
              " {'entity_group': 'PRON',\n",
              "  'score': 0.9997248,\n",
              "  'word': 'to',\n",
              "  'start': 19,\n",
              "  'end': 21},\n",
              " {'entity_group': 'NOUN',\n",
              "  'score': 0.9993143,\n",
              "  'word': 'Washonton DC yesterday',\n",
              "  'start': 22,\n",
              "  'end': 44},\n",
              " {'entity_group': 'ADV',\n",
              "  'score': 0.99992955,\n",
              "  'word': '.',\n",
              "  'start': 44,\n",
              "  'end': 45}]"
            ]
          },
          "metadata": {},
          "execution_count": 31
        }
      ]
    },
    {
      "cell_type": "code",
      "source": [],
      "metadata": {
        "id": "dADIfk65F5Co"
      },
      "execution_count": null,
      "outputs": []
    }
  ]
}